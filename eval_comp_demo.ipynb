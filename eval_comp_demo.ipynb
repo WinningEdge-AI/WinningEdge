{
 "cells": [
  {
   "cell_type": "code",
   "execution_count": 1,
   "id": "03a36260",
   "metadata": {},
   "outputs": [],
   "source": [
    "from winedge import Card, Evaluator\n",
    "\n",
    "# for debugging purposes, also include ```lookup```"
   ]
  },
  {
   "cell_type": "code",
   "execution_count": 2,
   "id": "c20f69e7",
   "metadata": {},
   "outputs": [
    {
     "ename": "SyntaxError",
     "evalue": "invalid syntax (943058737.py, line 3)",
     "output_type": "error",
     "traceback": [
      "\u001b[0;36m  Cell \u001b[0;32mIn[2], line 3\u001b[0;36m\u001b[0m\n\u001b[0;31m    Provide hands information of you and your opponent, as well as the community cards.\u001b[0m\n\u001b[0m            ^\u001b[0m\n\u001b[0;31mSyntaxError\u001b[0m\u001b[0;31m:\u001b[0m invalid syntax\n"
     ]
    }
   ],
   "source": [
    "## Input hands and board\n",
    "\n",
    "Provide hands information of you and your opponent, as well as the community cards.\n",
    "\n",
    "Name the cards in the following way:\n",
    "- For ranks, use ```['23456789TJQKA']```.\n",
    "- For suits, use ```['shdc']```\n",
    "- For example, ten of heart would be named ```['Th']```, whereas eight of spade is denoted as ```['8s']```"
   ]
  },
  {
   "cell_type": "code",
   "execution_count": null,
   "id": "2b73c31b",
   "metadata": {},
   "outputs": [],
   "source": [
    "hand1 = [\n",
    "    Card.new('Ts'),\n",
    "    Card.new('Ac')\n",
    "]\n",
    "\n",
    "hand2 = [\n",
    "    Card.new('2c'),\n",
    "    Card.new('Js')\n",
    "]\n",
    "\n",
    "board = [\n",
    "    Card.new('2h'),\n",
    "    Card.new('2s'),\n",
    "    Card.new('Jc'),\n",
    "    Card.new('Kh'),\n",
    "    Card.new('Qc')\n",
    "]\n"
   ]
  },
  {
   "cell_type": "code",
   "execution_count": null,
   "id": "0f7f516e",
   "metadata": {},
   "outputs": [],
   "source": [
    "# Initialize evaluator. This step calls the lookup function and generate\n",
    "# the LookupTable for hand ranks.\n",
    "evaluator = Evaluator()"
   ]
  },
  {
   "cell_type": "code",
   "execution_count": null,
   "id": "3fc112c1",
   "metadata": {},
   "outputs": [],
   "source": [
    "# evaluator.evaluate(hand, board) provide hand ranks\n",
    "# other functions provide different ways of representing hand strengths\n",
    "\n",
    "rankclass1 = evaluator.class_to_string(evaluator.get_rank_class(evaluator.evaluate(hand1, board)))\n",
    "rankperc1 = evaluator.get_rank_percentage(evaluator.evaluate(hand1, board))\n",
    "\n",
    "rankclass2 = evaluator.class_to_string(evaluator.get_rank_class(evaluator.evaluate(hand2, board)))\n",
    "rankperc2 = evaluator.get_rank_percentage(evaluator.evaluate(hand2, board))"
   ]
  },
  {
   "cell_type": "code",
   "execution_count": null,
   "id": "6fbbed6b",
   "metadata": {},
   "outputs": [],
   "source": [
    "print(\"Rank class for your hand is: %s\" % rankclass1)\n",
    "print(\"The hand strength is: %f\" % rankperc1)\n",
    "\n",
    "print(\"Rank class for your opponent's hand is: %s\" % rankclass2)\n",
    "print(\"The hand strength is: %f\" % rankperc2)\n",
    "\n",
    "if rankperc1 > rankperc2:\n",
    "    print('\\nYou won!')\n",
    "    \n",
    "elif rankperc1 < rankperc2:\n",
    "    print('\\nYou lost!')\n",
    "    \n",
    "else:\n",
    "    print(\"\\nIt's a draw!\")"
   ]
  },
  {
   "cell_type": "code",
   "execution_count": null,
   "id": "cbbee69d",
   "metadata": {},
   "outputs": [],
   "source": []
  },
  {
   "cell_type": "code",
   "execution_count": null,
   "id": "8c237997",
   "metadata": {},
   "outputs": [],
   "source": []
  }
 ],
 "metadata": {
  "kernelspec": {
   "display_name": "Python 3 (ipykernel)",
   "language": "python",
   "name": "python3"
  },
  "language_info": {
   "codemirror_mode": {
    "name": "ipython",
    "version": 3
   },
   "file_extension": ".py",
   "mimetype": "text/x-python",
   "name": "python",
   "nbconvert_exporter": "python",
   "pygments_lexer": "ipython3",
   "version": "3.11.4"
  }
 },
 "nbformat": 4,
 "nbformat_minor": 5
}
