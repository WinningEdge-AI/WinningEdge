{
 "cells": [
  {
   "cell_type": "code",
   "execution_count": 1,
   "id": "08f356e8",
   "metadata": {},
   "outputs": [],
   "source": [
    "from winedge import Card, Evaluator\n",
    "\n",
    "# for debugging purposes, also include ```lookup```"
   ]
  },
  {
   "cell_type": "markdown",
   "id": "55254134",
   "metadata": {},
   "source": [
    "## Input hands and board\n",
    "\n",
    "Provide hands information of you and your opponent, as well as the community cards.\n",
    "\n",
    "Name the cards in the following way:\n",
    "- For ranks, use ```['23456789TJQKA']```.\n",
    "- For suits, use ```['shdc']```\n",
    "- For example, ten of heart would be named ```['Th']```, whereas eight of spade is denoted as ```['8s']```"
   ]
  },
  {
   "cell_type": "code",
   "execution_count": 3,
   "id": "427bf2c2",
   "metadata": {},
   "outputs": [],
   "source": [
    "hand1 = [\n",
    "    Card.new('Ts'),\n",
    "    Card.new('Ac')\n",
    "]\n",
    "\n",
    "hand2 = [\n",
    "    Card.new('2c'),\n",
    "    Card.new('Js')\n",
    "]\n",
    "\n",
    "board = [\n",
    "    Card.new('2h'),\n",
    "    Card.new('2s'),\n",
    "    Card.new('Jc'),\n",
    "    Card.new('Kh'),\n",
    "    Card.new('Qc')\n",
    "]\n"
   ]
  },
  {
   "cell_type": "code",
   "execution_count": 4,
   "id": "0c690f47",
   "metadata": {},
   "outputs": [],
   "source": [
    "# Initialize evaluator. This step calls the lookup function and generate\n",
    "# the LookupTable for hand ranks.\n",
    "evaluator = Evaluator()"
   ]
  },
  {
   "cell_type": "code",
   "execution_count": 5,
   "id": "4ba642b7",
   "metadata": {},
   "outputs": [],
   "source": [
    "# evaluator.evaluate(hand, board) provide hand ranks\n",
    "# other functions provide different ways of representing hand strengths\n",
    "\n",
    "rankclass1 = evaluator.class_to_string(evaluator.get_rank_class(evaluator.evaluate(hand1, board)))\n",
    "rankperc1 = evaluator.get_rank_percentage(evaluator.evaluate(hand1, board))\n",
    "\n",
    "rankclass2 = evaluator.class_to_string(evaluator.get_rank_class(evaluator.evaluate(hand2, board)))\n",
    "rankperc2 = evaluator.get_rank_percentage(evaluator.evaluate(hand2, board))"
   ]
  },
  {
   "cell_type": "code",
   "execution_count": 6,
   "id": "8ef3acd1",
   "metadata": {},
   "outputs": [
    {
     "name": "stdout",
     "output_type": "stream",
     "text": [
      "Rank class for your hand is: Straight\n",
      "The hand strength is: 0.785580\n",
      "Rank class for your opponent's hand is: Full House\n",
      "The hand strength is: 0.961404\n",
      "\n",
      "You lost!\n"
     ]
    }
   ],
   "source": [
    "print(\"Rank class for your hand is: %s\" % rankclass1)\n",
    "print(\"The hand strength is: %f\" % rankperc1)\n",
    "\n",
    "print(\"Rank class for your opponent's hand is: %s\" % rankclass2)\n",
    "print(\"The hand strength is: %f\" % rankperc2)\n",
    "\n",
    "if rankperc1 > rankperc2:\n",
    "    print('\\nYou won!')\n",
    "    \n",
    "elif rankperc1 < rankperc2:\n",
    "    print('\\nYou lost!')\n",
    "    \n",
    "else:\n",
    "    print(\"\\nIt's a draw!\")"
   ]
  },
  {
   "cell_type": "code",
   "execution_count": null,
   "id": "ce880371",
   "metadata": {},
   "outputs": [],
   "source": []
  },
  {
   "cell_type": "code",
   "execution_count": null,
   "id": "7eac0f96",
   "metadata": {},
   "outputs": [],
   "source": []
  }
 ],
 "metadata": {
  "kernelspec": {
   "display_name": "Python 3 (ipykernel)",
   "language": "python",
   "name": "python3"
  },
  "language_info": {
   "codemirror_mode": {
    "name": "ipython",
    "version": 3
   },
   "file_extension": ".py",
   "mimetype": "text/x-python",
   "name": "python",
   "nbconvert_exporter": "python",
   "pygments_lexer": "ipython3",
<<<<<<< HEAD:eval_demo.ipynb
   "version": "3.9.6"
=======
   "version": "3.11.4"
>>>>>>> 5b1dbae5587c1805555fc7b97121e99f2a1768a9:eval_comp_demo.ipynb
  }
 },
 "nbformat": 4,
 "nbformat_minor": 5
}
