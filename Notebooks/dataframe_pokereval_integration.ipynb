{
 "cells": [
  {
   "cell_type": "code",
   "execution_count": null,
   "id": "6d625541",
   "metadata": {},
   "outputs": [],
   "source": [
    "#get data\n",
    "#from .data import dataframe\n",
    "from .pokereval import card\n",
    "from .pokereval import HandEvaluator"
   ]
  },
  {
   "cell_type": "code",
   "execution_count": null,
   "id": "6c16eea3",
   "metadata": {},
   "outputs": [],
   "source": [
    "def pokereval(df):\n",
    "    '''\n",
    "    Function which evaluates the mathamatical win probability of each poker game in the\n",
    "    dataframe using the pokerhand-eval code at each stage of the game and appends that\n",
    "    SB player and BB player win probability into the df for every game stage.\n",
    "    \n",
    "    If the dataframe index does not contain the hole cards for the players the function\n",
    "    will plays a null value into the df instead.\n",
    "    \n",
    "    Args:\n",
    "        An (n, 16) dataframe produced by the convert_data_to_dataframe function. Index\n",
    "        corresponds to each game in data set. Columns are as follows:\n",
    "        C0: Game ID - Game ID # (int)\n",
    "        C1: File - File Name (string)\n",
    "        C2: Player SB - Small Blind Player Name (string)\n",
    "        C3: Player BB - Big Blind Player Name (string)\n",
    "        C4: Preflop actions - List of (1,2) tuples containing letter indicating action\n",
    "        (string) and bet amount (float)\n",
    "            Actions: b (bet), c (call), k (check), f (fold)\n",
    "        C5: Flop Actions (same format as preflop actions)\n",
    "        C6: Turn Actions (same format as preflop actions)\n",
    "        C7: River Actions (same format as preflop actions)\n",
    "        C8: Flop - List of 2-3 character strings representing 3 flop cards.\n",
    "        First character indicates card number, second indicates suit.\n",
    "            Card Numbers: 1-10, K (king), Q (queen), J (jack)\n",
    "            Suits: c (clubs), s (spades), d (diamonds), h (hearts)\n",
    "        C9: Turn - Turn card indicated in same format as flop cards.\n",
    "        C10: River - River card in same format as flop cards.\n",
    "        C11: SB stack\n",
    "        C12: BB stack\n",
    "        C13: SB cards - Small Blind hole cards. See card format\n",
    "        C14: BB cards - Big Blind hole cards. See card format\n",
    "        C15: Folded pre - indicates if folded preflop (boolean)\n",
    "        \n",
    "    Return:\n",
    "        Same dataframe with appended colums:\n",
    "        C16: SB_preflop_winprob - Small blind player preflop win probability (float)\n",
    "        C17: BB_preflop_winprob - Big blind player preflop win probability (float)\n",
    "        C18: SB_flop_winprob - Small blind player flop win probability (float)\n",
    "        C19: BB_flop_winprob - Big blind player flop win probability (float)\n",
    "        C20: SB_turn_winprob - Small blind player turn win probability (float)\n",
    "        C21: BB_turn_winprob - Big blind player turn win probability (float)\n",
    "        C22: SB_river_winprob - Small blind player river win probability (float)\n",
    "        C23: BB_river_winprob - Big blind player river win probability (float)\n",
    "    '''\n",
    "    \n",
    "    for game in enumerate(df):\n",
    "        # Convert df card values & suits to pokereval format\n",
    "        "
   ]
  }
 ],
 "metadata": {
  "kernelspec": {
   "display_name": "Python 3 (ipykernel)",
   "language": "python",
   "name": "python3"
  },
  "language_info": {
   "codemirror_mode": {
    "name": "ipython",
    "version": 3
   },
   "file_extension": ".py",
   "mimetype": "text/x-python",
   "name": "python",
   "nbconvert_exporter": "python",
   "pygments_lexer": "ipython3",
   "version": "3.11.4"
  }
 },
 "nbformat": 4,
 "nbformat_minor": 5
}
