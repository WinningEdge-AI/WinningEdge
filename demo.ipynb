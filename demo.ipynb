{
 "cells": [
  {
   "cell_type": "code",
   "execution_count": 1,
   "metadata": {},
   "outputs": [],
   "source": [
    "from winedge import Card, Evaluator, lookup"
   ]
  },
  {
   "cell_type": "code",
   "execution_count": 21,
   "metadata": {},
   "outputs": [],
   "source": [
    "hand1 = [\n",
    "    Card.new('Ts'),\n",
    "    Card.new('Ac')\n",
    "]\n",
    "\n",
    "hand2 = [\n",
    "    Card.new('2c'),\n",
    "    Card.new('Js')\n",
    "]\n",
    "\n",
    "board = [\n",
    "    Card.new('2h'),\n",
    "    Card.new('2s'),\n",
    "    Card.new('Jc'),\n",
    "    Card.new('Kh'),\n",
    "    Card.new('Qc')\n",
    "]\n"
   ]
  },
  {
   "cell_type": "code",
   "execution_count": 5,
   "metadata": {},
   "outputs": [],
   "source": [
    "evaluator = Evaluator()"
   ]
  },
  {
   "cell_type": "code",
   "execution_count": 22,
   "metadata": {},
   "outputs": [],
   "source": [
    "rankclass1 = evaluator.class_to_string(evaluator.get_rank_class(evaluator.evaluate(hand1, board)))\n",
    "rankperc1 = evaluator.get_rank_percentage(evaluator.evaluate(hand1, board))\n",
    "\n",
    "rankclass2 = evaluator.class_to_string(evaluator.get_rank_class(evaluator.evaluate(hand2, board)))\n",
    "rankperc2 = evaluator.get_rank_percentage(evaluator.evaluate(hand2, board))"
   ]
  },
  {
   "cell_type": "code",
   "execution_count": 27,
   "metadata": {},
   "outputs": [
    {
     "name": "stdout",
     "output_type": "stream",
     "text": [
      "Rank class for your hand is: Straight\n",
      "The hand strength is: 0.785580\n",
      "Rank class for your opponent's hand is: Full House\n",
      "The hand strength is: 0.961404\n",
      "\n",
      "You lost!\n"
     ]
    }
   ],
   "source": [
    "print(\"Rank class for your hand is: %s\" % rankclass1)\n",
    "print(\"The hand strength is: %f\" % rankperc1)\n",
    "\n",
    "print(\"Rank class for your opponent's hand is: %s\" % rankclass2)\n",
    "print(\"The hand strength is: %f\" % rankperc2)\n",
    "\n",
    "if rankperc1 > rankperc2:\n",
    "    print('\\nYou won!')\n",
    "    \n",
    "elif rankperc1 < rankperc2:\n",
    "    print('\\nYou lost!')\n",
    "    \n",
    "else:\n",
    "    print(\"\\nIt's a draw!\")\n"
   ]
  },
  {
   "cell_type": "code",
   "execution_count": null,
   "metadata": {},
   "outputs": [],
   "source": []
  }
 ],
 "metadata": {
  "kernelspec": {
   "display_name": "Python 3",
   "language": "python",
   "name": "python3"
  },
  "language_info": {
   "codemirror_mode": {
    "name": "ipython",
    "version": 3
   },
   "file_extension": ".py",
   "mimetype": "text/x-python",
   "name": "python",
   "nbconvert_exporter": "python",
   "pygments_lexer": "ipython3",
   "version": "3.7.1"
  }
 },
 "nbformat": 4,
 "nbformat_minor": 2
}
