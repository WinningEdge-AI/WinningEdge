{
 "cells": [
  {
   "cell_type": "code",
   "execution_count": 1,
   "metadata": {},
   "outputs": [],
   "source": [
    "from winedge import Card, Evaluator\n",
    "\n",
    "# for debugging purposes, also include ```lookup```"
   ]
  },
  {
   "cell_type": "markdown",
   "metadata": {},
   "source": [
    "### Input hands and board\n",
    "\n",
    "Provide hands information of you and your opponent, as well as the community cards.\n",
    "\n",
    "Name the cards in the following way:\n",
    "- For ranks, use ```['23456789TJQKA']```.\n",
    "- For suits, use ```['shdc']```\n",
    "- For example, ten of heart would be named ```['Th']```, whereas eight of spade is denoted as ```['8s']```"
   ]
  },
  {
   "cell_type": "code",
   "execution_count": 9,
   "metadata": {},
   "outputs": [],
   "source": [
    "hand1 = [\n",
    "    Card.new('Th'),\n",
    "    Card.new('Ah')\n",
    "]\n",
    "\n",
    "hand2 = [\n",
    "    Card.new('3c'),\n",
    "    Card.new('Js')\n",
    "]\n",
    "\n",
    "board = [\n",
    "    Card.new('2h'),\n",
    "    Card.new('2s'),\n",
    "    Card.new('Jh'),\n",
    "    Card.new('Kh'),\n",
    "    Card.new('Qc')\n",
    "]\n"
   ]
  },
  {
   "cell_type": "code",
   "execution_count": 3,
   "metadata": {},
   "outputs": [],
   "source": [
    "# Initialize evaluator. This step calls the lookup function and generate\n",
    "# the LookupTable for hand ranks.\n",
    "evaluator = Evaluator()"
   ]
  },
  {
   "cell_type": "code",
   "execution_count": 10,
   "metadata": {},
   "outputs": [],
   "source": [
    "# evaluator.evaluate(hand, board) provide hand ranks\n",
    "# other functions provide different ways of representing hand strengths\n",
    "\n",
    "rankclass1 = evaluator.class_to_string(evaluator.get_rank_class(evaluator.evaluate(hand1, board)))\n",
    "rankperc1 = evaluator.get_rank_percentage(evaluator.evaluate(hand1, board))\n",
    "\n",
    "rankclass2 = evaluator.class_to_string(evaluator.get_rank_class(evaluator.evaluate(hand2, board)))\n",
    "rankperc2 = evaluator.get_rank_percentage(evaluator.evaluate(hand2, board))"
   ]
  },
  {
   "cell_type": "code",
   "execution_count": 11,
   "metadata": {},
   "outputs": [
    {
     "name": "stdout",
     "output_type": "stream",
     "text": [
      "Rank class for your hand is: Flush\n",
      "The hand strength is: 0.949879\n",
      "Rank class for your opponent's hand is: Two Pair\n",
      "The hand strength is: 0.639775\n",
      "\n",
      "You won!\n"
     ]
    }
   ],
   "source": [
    "print(\"Rank class for your hand is: %s\" % rankclass1)\n",
    "print(\"The hand strength is: %f\" % rankperc1)\n",
    "\n",
    "print(\"Rank class for your opponent's hand is: %s\" % rankclass2)\n",
    "print(\"The hand strength is: %f\" % rankperc2)\n",
    "\n",
    "if rankperc1 > rankperc2:\n",
    "    print('\\nYou won!')\n",
    "    \n",
    "elif rankperc1 < rankperc2:\n",
    "    print('\\nYou lost!')\n",
    "    \n",
    "else:\n",
    "    print(\"\\nIt's a draw!\")\n"
   ]
  },
  {
   "cell_type": "code",
   "execution_count": null,
   "metadata": {},
   "outputs": [],
   "source": []
  }
 ],
 "metadata": {
  "kernelspec": {
   "display_name": "Python 3 (ipykernel)",
   "language": "python",
   "name": "python3"
  },
  "language_info": {
   "codemirror_mode": {
    "name": "ipython",
    "version": 3
   },
   "file_extension": ".py",
   "mimetype": "text/x-python",
   "name": "python",
   "nbconvert_exporter": "python",
   "pygments_lexer": "ipython3",
   "version": "3.11.5"
  }
 },
 "nbformat": 4,
 "nbformat_minor": 4
}
